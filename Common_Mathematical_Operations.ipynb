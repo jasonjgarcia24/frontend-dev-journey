{
 "cells": [
  {
   "cell_type": "markdown",
   "id": "3987d687",
   "metadata": {},
   "source": [
    "# Common Mathematical Operations"
   ]
  },
  {
   "cell_type": "markdown",
   "id": "6c254450",
   "metadata": {},
   "source": [
    "## Random Integers"
   ]
  },
  {
   "cell_type": "code",
   "execution_count": null,
   "id": "0a3e91cc",
   "metadata": {},
   "outputs": [],
   "source": [
    "#  Where max = maximum value + 1\n",
    "function getRandomInt(max) {\n",
    "    return Math.floor(Math.random() * max);\n",
    "}\n",
    "\n",
    "#  Where min = minimum value and max = maximum value + 1\n",
    "function getRandomIntRange(min, max) {\n",
    "    return Math.floor(Math.random() * (max - min) + min)\n",
    "}\n"
   ]
  },
  {
   "cell_type": "code",
   "execution_count": null,
   "id": "70530209",
   "metadata": {},
   "outputs": [],
   "source": []
  }
 ],
 "metadata": {
  "kernelspec": {
   "display_name": "Python (dev)",
   "language": "python",
   "name": "dev"
  },
  "language_info": {
   "codemirror_mode": {
    "name": "ipython",
    "version": 3
   },
   "file_extension": ".py",
   "mimetype": "text/x-python",
   "name": "python",
   "nbconvert_exporter": "python",
   "pygments_lexer": "ipython3",
   "version": "3.8.8"
  }
 },
 "nbformat": 4,
 "nbformat_minor": 5
}
