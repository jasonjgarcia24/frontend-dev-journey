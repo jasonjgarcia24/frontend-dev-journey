{
 "cells": [
  {
   "cell_type": "markdown",
   "id": "75ebe03c",
   "metadata": {},
   "source": [
    "#  Centering Content"
   ]
  },
  {
   "cell_type": "markdown",
   "id": "d9f3f650",
   "metadata": {},
   "source": [
    "## Centering Text\n",
    "Use: <em>text-align: center;</em><br>\n"
   ]
  },
  {
   "cell_type": "markdown",
   "id": "83b49257",
   "metadata": {},
   "source": [
    "## Centering Elements\n",
    "To center an element on the page, we need to declare:\n",
    " 1. Width\n",
    " 2. <em>margin-left</em> and <em>margin-right</em> of <strong>auto</strong> ( or { margin: 0 auto; } )"
   ]
  }
 ],
 "metadata": {
  "kernelspec": {
   "display_name": "Python (dev)",
   "language": "python",
   "name": "dev"
  },
  "language_info": {
   "codemirror_mode": {
    "name": "ipython",
    "version": 3
   },
   "file_extension": ".py",
   "mimetype": "text/x-python",
   "name": "python",
   "nbconvert_exporter": "python",
   "pygments_lexer": "ipython3",
   "version": "3.8.12"
  }
 },
 "nbformat": 4,
 "nbformat_minor": 5
}
