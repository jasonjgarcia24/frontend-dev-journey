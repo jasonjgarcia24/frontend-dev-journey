{
 "cells": [
  {
   "cell_type": "markdown",
   "id": "494becbf",
   "metadata": {},
   "source": [
    "# Box-Sizing"
   ]
  },
  {
   "cell_type": "markdown",
   "id": "ad2270c0",
   "metadata": {},
   "source": [
    "### Without box-sizing:"
   ]
  },
  {
   "cell_type": "code",
   "execution_count": null,
   "id": "f7bb8290",
   "metadata": {},
   "outputs": [],
   "source": [
    "body {\n",
    "    margin: 0;\n",
    "    padding: 10px;\n",
    "    font-family: Arial, Helvetica, sans-serif;\n",
    "}\n",
    "\n",
    "input {\n",
    "    width: 100%; /* 100% + 10px + 10px */\n",
    "    padding-left: 10px;\n",
    "    padding-right: 10px;\n",
    "}\n",
    "\n",
    "button {\n",
    "    \n",
    "}"
   ]
  },
  {
   "cell_type": "markdown",
   "id": "f44794a7",
   "metadata": {},
   "source": [
    "<img src=\"img/box-sizing-css-01.png\" alt=\"No box sizing\"/>"
   ]
  },
  {
   "cell_type": "markdown",
   "id": "56966f6e",
   "metadata": {},
   "source": [
    "### With box-sizing: "
   ]
  },
  {
   "cell_type": "code",
   "execution_count": 2,
   "id": "e6e3085b",
   "metadata": {},
   "outputs": [],
   "source": [
    "body {\n",
    "    margin: 0;\n",
    "    padding: 10px;\n",
    "    font-family: Arial, Helvetica, sans-serif;\n",
    "}\n",
    "\n",
    "input {\n",
    "    width: 100%; /* 100% */\n",
    "    padding-left: 10px;\n",
    "    padding-right: 10px;\n",
    "    box-sizing: border-box;\n",
    "}\n",
    "\n",
    "button {\n",
    "    \n",
    "}"
   ]
  },
  {
   "cell_type": "markdown",
   "id": "3a541e88",
   "metadata": {},
   "source": [
    "<img src=\"img/box-sizing-css-02.png\" alt=\"No box sizing\"/>"
   ]
  }
 ],
 "metadata": {
  "kernelspec": {
   "display_name": "Python (dev)",
   "language": "python",
   "name": "dev"
  },
  "language_info": {
   "codemirror_mode": {
    "name": "ipython",
    "version": 3
   },
   "file_extension": ".py",
   "mimetype": "text/x-python",
   "name": "python",
   "nbconvert_exporter": "python",
   "pygments_lexer": "ipython3",
   "version": "3.8.12"
  }
 },
 "nbformat": 4,
 "nbformat_minor": 5
}
