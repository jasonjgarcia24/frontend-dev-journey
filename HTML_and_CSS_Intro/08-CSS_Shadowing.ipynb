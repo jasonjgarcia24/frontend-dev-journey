{
 "cells": [
  {
   "cell_type": "markdown",
   "id": "fd6e50be",
   "metadata": {},
   "source": [
    "# CSS Shadowing"
   ]
  },
  {
   "cell_type": "code",
   "execution_count": null,
   "id": "007fe98a",
   "metadata": {},
   "outputs": [],
   "source": [
    "header {\n",
    "    border-radius: 50px;\n",
    "    box-shadow: 0 2px 50px 0 rgba(1, 1, 1, 0.9), 0 2px 50px 0 rgba(1, 1, 1, 0.9);\n",
    "}"
   ]
  },
  {
   "cell_type": "code",
   "execution_count": null,
   "id": "68699bc3",
   "metadata": {},
   "outputs": [],
   "source": [
    "h1 {\n",
    "    text-shadow: 2px 2px blue;\n",
    "}"
   ]
  }
 ],
 "metadata": {
  "kernelspec": {
   "display_name": "Python (dev)",
   "language": "python",
   "name": "dev"
  },
  "language_info": {
   "codemirror_mode": {
    "name": "ipython",
    "version": 3
   },
   "file_extension": ".py",
   "mimetype": "text/x-python",
   "name": "python",
   "nbconvert_exporter": "python",
   "pygments_lexer": "ipython3",
   "version": "3.8.8"
  }
 },
 "nbformat": 4,
 "nbformat_minor": 5
}
