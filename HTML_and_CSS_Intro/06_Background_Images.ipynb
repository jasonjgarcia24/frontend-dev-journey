{
 "cells": [
  {
   "cell_type": "markdown",
   "id": "cded6751",
   "metadata": {},
   "source": [
    "# Background Images"
   ]
  },
  {
   "cell_type": "markdown",
   "id": "eb80507c",
   "metadata": {},
   "source": [
    "Unlike regular images, background images are not content, they are decoration.<br>\n",
    " - Hard to control the exact positioning\n",
    " - No alt text"
   ]
  },
  {
   "cell_type": "markdown",
   "id": "c2ee1c9d",
   "metadata": {},
   "source": [
    "## Images\n",
    "    .hero {\n",
    "        background-image: url(\"IMAGE_LOCATION/filename.jpg\");\n",
    "        background-size: cover;\n",
    "    }\n",
    "<br>"
   ]
  },
  {
   "cell_type": "markdown",
   "id": "8be66cac",
   "metadata": {},
   "source": [
    "<em>background-size: cover;</em> will keep images from repeating, but it will blur small images due to stretching."
   ]
  }
 ],
 "metadata": {
  "kernelspec": {
   "display_name": "Python (dev)",
   "language": "python",
   "name": "dev"
  },
  "language_info": {
   "codemirror_mode": {
    "name": "ipython",
    "version": 3
   },
   "file_extension": ".py",
   "mimetype": "text/x-python",
   "name": "python",
   "nbconvert_exporter": "python",
   "pygments_lexer": "ipython3",
   "version": "3.8.12"
  }
 },
 "nbformat": 4,
 "nbformat_minor": 5
}
