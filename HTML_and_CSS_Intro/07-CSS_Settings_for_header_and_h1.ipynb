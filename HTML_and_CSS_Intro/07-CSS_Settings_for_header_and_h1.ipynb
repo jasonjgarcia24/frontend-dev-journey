{
 "cells": [
  {
   "cell_type": "markdown",
   "id": "eff3d797",
   "metadata": {},
   "source": [
    "# CSS Settings for header and h1"
   ]
  },
  {
   "cell_type": "code",
   "execution_count": null,
   "id": "a0717de0",
   "metadata": {},
   "outputs": [],
   "source": [
    "<!DOCTYPE html>\n",
    "<html>\n",
    "    <head>\n",
    "        <title>All about lizards</title>\n",
    "        <link href=\"css/style.css\" rel=\"stylesheet\">\n",
    "    </head>\n",
    "    <body>\n",
    "        <header>\n",
    "            <h1>All About Lizards</h1>\n",
    "        </header>\n",
    "..."
   ]
  },
  {
   "cell_type": "code",
   "execution_count": null,
   "id": "44b9aa37",
   "metadata": {},
   "outputs": [],
   "source": [
    "header {\n",
    "    background-color: #281B2D;\n",
    "    color: #fff;\n",
    "    text-align: center;\n",
    "    padding: 20px;\n",
    "}\n",
    "\n",
    "h1 {\n",
    "    font-size: 72px;\n",
    "    margin:0;\n",
    "}\n"
   ]
  },
  {
   "cell_type": "markdown",
   "id": "aad729f6",
   "metadata": {},
   "source": [
    "<img src=\"img/header-h1-css.png\" alt=\"header and h1 css settings\">"
   ]
  }
 ],
 "metadata": {
  "kernelspec": {
   "display_name": "Python (dev)",
   "language": "python",
   "name": "dev"
  },
  "language_info": {
   "codemirror_mode": {
    "name": "ipython",
    "version": 3
   },
   "file_extension": ".py",
   "mimetype": "text/x-python",
   "name": "python",
   "nbconvert_exporter": "python",
   "pygments_lexer": "ipython3",
   "version": "3.8.8"
  }
 },
 "nbformat": 4,
 "nbformat_minor": 5
}
