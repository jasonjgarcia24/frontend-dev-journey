{
 "cells": [
  {
   "cell_type": "code",
   "execution_count": 1,
   "id": "a3769571",
   "metadata": {},
   "outputs": [
    {
     "data": {
      "text/html": [
       "<style>.container { width:75% !important; }</style>"
      ],
      "text/plain": [
       "<IPython.core.display.HTML object>"
      ]
     },
     "metadata": {},
     "output_type": "display_data"
    }
   ],
   "source": [
    "from IPython.core.display import HTML\n",
    "\n",
    "display(HTML(\"<style>.container { width:75% !important; }</style>\"))\n"
   ]
  },
  {
   "cell_type": "markdown",
   "id": "83f35497",
   "metadata": {},
   "source": [
    "# CSS Intro"
   ]
  },
  {
   "cell_type": "markdown",
   "id": "fd54089b",
   "metadata": {},
   "source": [
    "<b>C</b>ascading <b>S</b>tyle <b>S</b>heets<br>\n",
    " - HTML is about content, CSS is all about style!\n",
    " - It's a completely different language\n",
    " - Propety-value pairs<br><br>\n",
    " \n",
    "Where does CSS live?\n",
    " - Inline styles (avoid most of the time - impossible to maintain)\n",
    "  - <code>&lt;p style=\"color: red;\"&gt; ... &lt;/p&gt;</code><br>\n",
    " - Embedded\n",
    "  - You can write your CSS in the head of an HTML element, placing it inside a &lt;style&gt; element.\n",
    "  - <code>&lt;head&gt;&lt;style&gt; p { color: red; } &lt;/style&gt;&lt;/head&gt;</code><br>\n",
    " - External\n",
    "  - This is the best choice. It keeps all your CSS in it's own file, and allows it to be shared across multiple HTML files.\n",
    "  - <code>&lt;head&gt;&lt;link href=\"\" rel=\"stylesheet\"&gt;&lt;/head&gt;</code><br>"
   ]
  },
  {
   "cell_type": "markdown",
   "id": "1e3a2cc1",
   "metadata": {},
   "source": [
    "## The Box Model\n",
    "<b>Most elements are block level by default</b><br>\n",
    " - They stack one on top of the other\n",
    " - Their width is 100%\n",
    " - Their height is 0\n",
    " - Their height will grow as you add more content to them<br><br>\n",
    "\n",
    "<img src=\"img/box-model.png\" alt=\"box model graphic\">"
   ]
  },
  {
   "cell_type": "markdown",
   "id": "6086598e",
   "metadata": {},
   "source": [
    "## Block Margins\n",
    "The margin shorthand:<br><br>\n",
    "margin: 10px (top) 20px (right) 30px (bottom) 40px (left)<br><br>\n",
    "margin: 10px (top) 20px (left & right) 30px (bottom)<br><br>\n",
    "margin: 10px (top & bottom) 20px (left & right)<br><br>\n",
    "margin: 10px (all sides)<br>"
   ]
  },
  {
   "cell_type": "markdown",
   "id": "9276d87b",
   "metadata": {},
   "source": [
    "### Margin vs Padding\n",
    "As a general rule of thumb:<br>\n",
    " - If you need empty space, use margin\n",
    " - If you need more background, use padding"
   ]
  },
  {
   "cell_type": "markdown",
   "id": "5b941faf",
   "metadata": {},
   "source": [
    "## Border Properties\n",
    " - <strong>border-width</strong> (defaults to <i>medium</i>)\n",
    " - <strong>border-style</strong> (defaults to <i>none</i>) --- Always needs to be set\n",
    " - <strong>border-color</strong> (defaults to the <i>text color</i>)<br><br>\n",
    " \n",
    "The border shorthand:<br><br>\n",
    "border: 2px solid pink;<br><br>\n",
    "border-left: \"\" \"\" \"\";<br>\n",
    "border-right: \"\" \"\" \"\";<br>\n",
    "border-bottom: \"\" \"\" \"\";<br>\n",
    "border-top: \"\" \"\" \"\";<br>"
   ]
  }
 ],
 "metadata": {
  "kernelspec": {
   "display_name": "Python (dev)",
   "language": "python",
   "name": "dev"
  },
  "language_info": {
   "codemirror_mode": {
    "name": "ipython",
    "version": 3
   },
   "file_extension": ".py",
   "mimetype": "text/x-python",
   "name": "python",
   "nbconvert_exporter": "python",
   "pygments_lexer": "ipython3",
   "version": "3.8.8"
  }
 },
 "nbformat": 4,
 "nbformat_minor": 5
}
