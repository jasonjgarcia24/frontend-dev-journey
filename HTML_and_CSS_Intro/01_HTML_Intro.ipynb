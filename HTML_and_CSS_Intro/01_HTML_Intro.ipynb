{
 "cells": [
  {
   "cell_type": "code",
   "execution_count": 6,
   "id": "b6ebbe20",
   "metadata": {},
   "outputs": [
    {
     "data": {
      "text/html": [
       "<style>.container { width:75% !important; }</style>"
      ],
      "text/plain": [
       "<IPython.core.display.HTML object>"
      ]
     },
     "metadata": {},
     "output_type": "display_data"
    }
   ],
   "source": [
    "from IPython.core.display import HTML\n",
    "\n",
    "display(HTML(\"<style>.container { width:75% !important; }</style>\"))\n"
   ]
  },
  {
   "cell_type": "markdown",
   "id": "3695dc0a",
   "metadata": {},
   "source": [
    "# HTML Intro"
   ]
  },
  {
   "cell_type": "markdown",
   "id": "0e28e8c9",
   "metadata": {},
   "source": [
    "## HTML\n",
    "<b>H</b>yper<b>T</b>ext <b>M</b>arkup <b>L</b>anguage<br>\n",
    " - The content of websites\n",
    " - Relatively straight forward<br><br>\n",
    " \n",
    "Standard page makeup:\n",
    "\n"
   ]
  },
  {
   "cell_type": "code",
   "execution_count": null,
   "id": "9dbd127a",
   "metadata": {},
   "outputs": [],
   "source": [
    "<!DOCTYPE html>\n",
    "<html>\n",
    "    <head>\n",
    "        <title>page title...</title>\n",
    "    </head>\n",
    "    <body>\n",
    "        Page content goes here\n",
    "    </body>\n",
    "</html"
   ]
  },
  {
   "cell_type": "markdown",
   "id": "41d9516d",
   "metadata": {},
   "source": [
    "***"
   ]
  },
  {
   "cell_type": "markdown",
   "id": "8580e4ab",
   "metadata": {},
   "source": [
    "## The &lt;head&gt;\n",
    " - This is the metadata of your site\n",
    " - Things the user doesn't see"
   ]
  },
  {
   "cell_type": "code",
   "execution_count": null,
   "id": "1e003cf3",
   "metadata": {},
   "outputs": [],
   "source": [
    "<!DOCTYPE html>\n",
    "<html lang=\"en\">\n",
    "    <head>\n",
    "        <meta charset=\"UTF-8\">\n",
    "        <meta name=\"viewport\" content=\"width=device-width, initial-scale=1.0\">\n",
    "        <title>Moonbase Alpha</title>\n",
    "        <link rel=\"preconnect\" href=\"https://fonts.gstatic.com\">\n",
    "        <link href=\"https://fonts.googleapis.com/css2?family=PT+Sans:ital,wght@0,400;0,700;1,400&family=Source+Sans+Pro:wght@900&display=swap\" rel=\"stylesheet\">\n",
    "        <link href=\"index.css\" rel=\"stylesheet\">\n",
    "    </head>\n",
    "</html>"
   ]
  },
  {
   "cell_type": "markdown",
   "id": "7301385f",
   "metadata": {},
   "source": [
    "Metadata that defines with type of character encoding:<br>\n",
    " - <code>&lt;meta charset=\"UTF-8\"&gt;</code><br>\n",
    " \n",
    "Metadata that helps our site be responsive:<br>\n",
    " - <code>&lt;meta name=\"viewport\" content=\"width-device-width, initial-scale=1.0\"&gt;</code><br>\n",
    " \n",
    "Links to Google fonts:<br>\n",
    " - <code>&lt;link rel=\"preconnect\" href=\"https://fonts.gstatic.com\"&gt;</code>\n",
    " - <code>&lt;link href=\"https://fonts.googleapis.com/css2?family=PT+Sans:ital,wght@0,400;0,700;1,400&family=Source+Sans+Pro:wght@900&display=swap\" rel=\"stylesheet\"&gt;</code><br>\n",
    " \n",
    "Link to <b>our</b> CSS file:<br>\n",
    " - <code>&lt;link href=\"index.css\" rel=\"stylesheet\"&gt;</code><br>\n",
    " \n"
   ]
  },
  {
   "cell_type": "markdown",
   "id": "49721964",
   "metadata": {},
   "source": [
    "***"
   ]
  },
  {
   "cell_type": "markdown",
   "id": "6d05f2e3",
   "metadata": {},
   "source": [
    "## Inline vs Block Elements\n",
    "<h4>Block</h4>\n",
    "Stacks contents on top of each other, like lego blocks.<br><br>\n",
    "<h4>Inline</h4>\n",
    "\n",
    "Sets content inline with whatever is around them. Common inline elements include:<br>\n",
    " - Links<br>\n",
    " - &lt;em&gt; and &lt;strong&gt;<br>\n",
    "  - Both used to add <strong>emphasis</strong> to text, not <b>bold</b> or <i>italicize</i> text"
   ]
  }
 ],
 "metadata": {
  "kernelspec": {
   "display_name": "Python (dev)",
   "language": "python",
   "name": "dev"
  },
  "language_info": {
   "codemirror_mode": {
    "name": "ipython",
    "version": 3
   },
   "file_extension": ".py",
   "mimetype": "text/x-python",
   "name": "python",
   "nbconvert_exporter": "python",
   "pygments_lexer": "ipython3",
   "version": "3.8.8"
  }
 },
 "nbformat": 4,
 "nbformat_minor": 5
}
