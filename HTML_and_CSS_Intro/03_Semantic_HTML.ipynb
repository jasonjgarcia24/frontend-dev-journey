{
 "cells": [
  {
   "cell_type": "markdown",
   "id": "31c95c32",
   "metadata": {},
   "source": [
    "# Semantic HTML"
   ]
  },
  {
   "cell_type": "markdown",
   "id": "1189f3d7",
   "metadata": {},
   "source": [
    "To organize content, we can use different <strong>elements</strong>:<br>\n",
    " - &lt;heading&gt;<br>\n",
    " - &lt;main&gt;<br>\n",
    " - &lt;nav&gt;<br>\n",
    " - &lt;section&gt;<br>\n",
    " - &lt;article&gt;<br>\n",
    " - &lt;footer&gt;"
   ]
  },
  {
   "cell_type": "markdown",
   "id": "6298aab5",
   "metadata": {},
   "source": [
    "## Classes & IDs<br>\n",
    "#### Classes\n",
    "We can select a class by putting a period before it's name:<br>\n",
    "\n",
    "    .bg-dark {\n",
    "        background: black;\n",
    "    }\n",
    "<br>\n",
    "\n",
    "#### IDs\n",
    "We can select an ID by putting a # before it's name:<br>\n",
    "\n",
    "    #intro {\n",
    "        background: black;\n",
    "    }"
   ]
  },
  {
   "cell_type": "markdown",
   "id": "b46d2472",
   "metadata": {},
   "source": [
    "## Classes vs IDs vs Elements\n",
    "There are some important differences between the two:\n",
    " - IDs can only be used one time per page\n",
    " - Classes can be used over and over\n",
    " - <strong>Classes will overwrite an element selector</strong>\n",
    " - <strong>IDs will overwrite a class selector</strong>\n",
    " \n",
    "Generally, classes are used for styling. IDs typically are not."
   ]
  }
 ],
 "metadata": {
  "kernelspec": {
   "display_name": "Python (dev)",
   "language": "python",
   "name": "dev"
  },
  "language_info": {
   "codemirror_mode": {
    "name": "ipython",
    "version": 3
   },
   "file_extension": ".py",
   "mimetype": "text/x-python",
   "name": "python",
   "nbconvert_exporter": "python",
   "pygments_lexer": "ipython3",
   "version": "3.8.8"
  }
 },
 "nbformat": 4,
 "nbformat_minor": 5
}
