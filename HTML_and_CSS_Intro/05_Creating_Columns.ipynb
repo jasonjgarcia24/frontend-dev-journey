{
 "cells": [
  {
   "cell_type": "markdown",
   "id": "0ade30e3",
   "metadata": {},
   "source": [
    "# Creating Columns"
   ]
  },
  {
   "cell_type": "markdown",
   "id": "fa1292d1",
   "metadata": {},
   "source": [
    "When we declare display: flex on an element, all it's direct children will become columns.<br>\n",
    "\n",
    "    .selector {\n",
    "        display: flex\n",
    "    }\n",
    "<br>\n"
   ]
  }
 ],
 "metadata": {
  "kernelspec": {
   "display_name": "Python (dev)",
   "language": "python",
   "name": "dev"
  },
  "language_info": {
   "codemirror_mode": {
    "name": "ipython",
    "version": 3
   },
   "file_extension": ".py",
   "mimetype": "text/x-python",
   "name": "python",
   "nbconvert_exporter": "python",
   "pygments_lexer": "ipython3",
   "version": "3.8.8"
  }
 },
 "nbformat": 4,
 "nbformat_minor": 5
}
